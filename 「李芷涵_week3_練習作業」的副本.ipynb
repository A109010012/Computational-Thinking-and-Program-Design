{
  "nbformat": 4,
  "nbformat_minor": 0,
  "metadata": {
    "colab": {
      "name": "「李芷涵-week3-練習作業」的副本",
      "provenance": [],
      "collapsed_sections": [],
      "include_colab_link": true
    },
    "kernelspec": {
      "display_name": "Python 3",
      "name": "python3"
    }
  },
  "cells": [
    {
      "cell_type": "markdown",
      "metadata": {
        "id": "view-in-github",
        "colab_type": "text"
      },
      "source": [
        "<a href=\"https://colab.research.google.com/github/A109010012/Computational-Thinking-and-Program-Design/blob/main/%E3%80%8C%E6%9D%8E%E8%8A%B7%E6%B6%B5_week3_%E7%B7%B4%E7%BF%92%E4%BD%9C%E6%A5%AD%E3%80%8D%E7%9A%84%E5%89%AF%E6%9C%AC.ipynb\" target=\"_parent\"><img src=\"https://colab.research.google.com/assets/colab-badge.svg\" alt=\"Open In Colab\"/></a>"
      ]
    },
    {
      "cell_type": "markdown",
      "metadata": {
        "id": "8KmfE46tNLZY"
      },
      "source": [
        "#隨堂練習\r\n",
        "\r\n",
        "用電腦解決問題"
      ]
    },
    {
      "cell_type": "markdown",
      "metadata": {
        "id": "IccWPooWORGf"
      },
      "source": [
        "#認識電腦\r\n",
        "\r\n",
        "計算⽤硬體:負責計算的硬體文件\r\n",
        "\r\n",
        "⼀般將軟體分成系統軟體和應⽤軟體兩⼤類\r\n",
        "\r\n",
        "電腦說的話為二進位\r\n",
        "\r\n",
        "程式語言有分直譯跟邊譯\r\n",
        "\r\n",
        "程式語言=限制多種說法\r\n",
        "\r\n",
        "運算思維是一個思考的程式\r\n",
        "\r\n",
        "用電腦解決問題的4步驟:1.運算思維2.程式設計3.程式編碼4.測試除錯"
      ]
    },
    {
      "cell_type": "markdown",
      "metadata": {
        "id": "lUtEnMUePKeP"
      },
      "source": [
        "#課後練習\r\n"
      ]
    },
    {
      "cell_type": "markdown",
      "metadata": {
        "id": "5vFTolYkPY6V"
      },
      "source": [
        "從一則新聞報導，提出你對新聞系（OO系）學生為什麼要學「運算思維與程式設計」的見解。（告訴我新聞連結，以及你的觀點即可。）"
      ]
    },
    {
      "cell_type": "markdown",
      "metadata": {
        "id": "YfkUeClaPTB2"
      },
      "source": [
        ""
      ]
    }
  ]
}